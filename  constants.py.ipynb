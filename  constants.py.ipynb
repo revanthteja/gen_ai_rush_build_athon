{
 "cells": [
  {
   "cell_type": "code",
   "execution_count": 1,
   "id": "caadcf64",
   "metadata": {},
   "outputs": [],
   "source": [
    "project_list = [\n",
    "    'Margins app development project',\n",
    "    'React UI for pharma client project',\n",
    "    'Mobile app for grocery store project'\n",
    "]\n",
    "\n",
    "project_meta_data_map = {\n",
    "    'Margins app development project': 'project_meta_data/margins_app_development_project_meta_data.txt',\n",
    "    'React UI for pharma client project': 'project_meta_data/react_ui_for_phrama_client_project_meta_data.txt',\n",
    "    'Mobile app for grocery store project': 'project_meta_data/mobile_app_for_grocery_store_project_meta_data.txt'\n",
    "}\n",
    "\n",
    "base_prompt = \"You are the Subject Matter Expert (SME) for a project and \" \\\n",
    "              \"your role is to provide understanding and clarification regarding \" \\\n",
    "              \"the project details. Users will ask you questions related to the project,\" \\\n",
    "              \" and you will act as their guide and source of information.\" \\\n",
    "              \" Your goal is to provide clear and accurate responses\" \\\n",
    "              \" to help users understand the project better. Keep in mind\" \\\n",
    "              \" that the below project details \\n\\n\""
   ]
  },
  {
   "cell_type": "code",
   "execution_count": null,
   "id": "7fae7e09",
   "metadata": {},
   "outputs": [],
   "source": []
  }
 ],
 "metadata": {
  "kernelspec": {
   "display_name": "Python 3 (ipykernel)",
   "language": "python",
   "name": "python3"
  },
  "language_info": {
   "codemirror_mode": {
    "name": "ipython",
    "version": 3
   },
   "file_extension": ".py",
   "mimetype": "text/x-python",
   "name": "python",
   "nbconvert_exporter": "python",
   "pygments_lexer": "ipython3",
   "version": "3.10.2"
  }
 },
 "nbformat": 4,
 "nbformat_minor": 5
}
