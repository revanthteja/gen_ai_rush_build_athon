{
 "cells": [
  {
   "cell_type": "code",
   "execution_count": 2,
   "id": "0faffc0b",
   "metadata": {},
   "outputs": [],
   "source": [
    "import constants as c\n",
    "import openai\n",
    "\n",
    "openai.api_key = ''\n",
    "\n",
    "\n",
    "def answer(meta_data_about_project, question_from_client):\n",
    "    response = openai.Completion.create(\n",
    "        model='text-davinci-003',\n",
    "        prompt=question_from_client,\n",
    "        temperature=1,\n",
    "        max_tokens=256,\n",
    "        top_p=1,\n",
    "        frequency_penalty=0,\n",
    "        presence_penalty=0,\n",
    "        system=c.base_prompt + meta_data_about_project\n",
    "    )\n",
    "    return response.choices[0].text\n",
    "\n"
   ]
  },
  {
   "cell_type": "code",
   "execution_count": null,
   "id": "6d291568",
   "metadata": {},
   "outputs": [],
   "source": []
  }
 ],
 "metadata": {
  "kernelspec": {
   "display_name": "Python 3 (ipykernel)",
   "language": "python",
   "name": "python3"
  },
  "language_info": {
   "codemirror_mode": {
    "name": "ipython",
    "version": 3
   },
   "file_extension": ".py",
   "mimetype": "text/x-python",
   "name": "python",
   "nbconvert_exporter": "python",
   "pygments_lexer": "ipython3",
   "version": "3.10.2"
  }
 },
 "nbformat": 4,
 "nbformat_minor": 5
}
