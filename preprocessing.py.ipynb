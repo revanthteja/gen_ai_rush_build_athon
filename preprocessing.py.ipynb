{
 "cells": [
  {
   "cell_type": "code",
   "execution_count": 1,
   "id": "e793a229",
   "metadata": {},
   "outputs": [],
   "source": [
    "class Preprocess:\n",
    "\n",
    "    @staticmethod\n",
    "    def pre_preprocess_text(list_of_text: list[str]) -> list[str]:\n",
    "        \"\"\"\n",
    "        Takes list of raw string and pre-process it according to need for\n",
    "        chat-gpt prompt\n",
    "        :param list_of_text:\n",
    "        :return: preprocessed string\n",
    "        \"\"\"\n",
    "        processed_str = []\n",
    "        for sub in list_of_text:\n",
    "            print(sub)\n",
    "            processed_str.append(sub.replace(\"\\n\", \"\"))\n",
    "        return processed_str\n"
   ]
  },
  {
   "cell_type": "code",
   "execution_count": null,
   "id": "80a195a2",
   "metadata": {},
   "outputs": [],
   "source": []
  }
 ],
 "metadata": {
  "kernelspec": {
   "display_name": "Python 3 (ipykernel)",
   "language": "python",
   "name": "python3"
  },
  "language_info": {
   "codemirror_mode": {
    "name": "ipython",
    "version": 3
   },
   "file_extension": ".py",
   "mimetype": "text/x-python",
   "name": "python",
   "nbconvert_exporter": "python",
   "pygments_lexer": "ipython3",
   "version": "3.10.2"
  }
 },
 "nbformat": 4,
 "nbformat_minor": 5
}
